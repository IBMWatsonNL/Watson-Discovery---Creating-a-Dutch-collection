{
 "cells": [
  {
   "cell_type": "markdown",
   "metadata": {},
   "source": [
    "# Getting started with Watson Discovery in Dutch"
   ]
  },
  {
   "cell_type": "markdown",
   "metadata": {},
   "source": [
    "With Discovery, it only takes a few steps to prepare your unstructured data, create a query that pinpoints the information you need, and then integrate those insights into your new application or existing solution.\n",
    "\n",
    "How does Discovery do it? By using data analysis combined with cognitive intuition to take your unstructured data and enrich it so you can discover the information you need.\n",
    "\n",
    "IBM Watson™ Discovery brings together a functionally rich set of integrated, automated Watson APIs to:\n",
    "\n",
    "- Crawl, convert, enrich and normalize data.\n",
    "- Securely explore your proprietary content as well as free and licensed public content.\n",
    "- Apply additional enrichments such as concepts, relations, and sentiment through Natural Language Understanding (NLU).\n",
    "- Simplify development while still providing direct access to APIs.\n",
    "\n",
    "This link provides the information to getting started with Watson Discovery https://cloud.ibm.com/docs/discovery?topic=discovery-getting-started\n",
    "<br>\n",
    "This link provides the API information to getting started with Watson Discovery https://cloud.ibm.com/apidocs/discovery#introduction\n"
   ]
  },
  {
   "cell_type": "markdown",
   "metadata": {},
   "source": [
    "## 1. Setup\n",
    "\n",
    "##### To prepare your environment, you need to install some packages and enter credentials for the Watson services."
   ]
  },
  {
   "cell_type": "code",
   "execution_count": null,
   "metadata": {},
   "outputs": [],
   "source": [
    "!pip install --upgrade \"ibm-watson>=4.3.0\""
   ]
  },
  {
   "cell_type": "markdown",
   "metadata": {},
   "source": [
    "### 1.1 Import Packages and Libraries"
   ]
  },
  {
   "cell_type": "code",
   "execution_count": null,
   "metadata": {},
   "outputs": [],
   "source": [
    "from ibm_watson import DiscoveryV1\n",
    "from ibm_cloud_sdk_core.authenticators import IAMAuthenticator\n",
    "import json"
   ]
  },
  {
   "cell_type": "markdown",
   "metadata": {},
   "source": [
    "### 1.2 Add Service Credentials From IBM Cloud for Watson Services"
   ]
  },
  {
   "cell_type": "markdown",
   "metadata": {},
   "source": [
    "Edit the following cell to provide your credentials for Watson Discovery\n",
    "\n",
    "Insert API keys and URLs in the following cell. Run the cell.\n"
   ]
  },
  {
   "cell_type": "code",
   "execution_count": null,
   "metadata": {},
   "outputs": [],
   "source": [
    "authenticator = IAMAuthenticator('<add your apikey information>')\n",
    "discovery = DiscoveryV1(\n",
    "    version='2019-04-30',\n",
    "    authenticator=authenticator\n",
    ")\n",
    "discovery.set_service_url('<add your url information>')"
   ]
  },
  {
   "cell_type": "markdown",
   "metadata": {},
   "source": [
    "## 2. Preparing the service for your documents\n",
    "\n",
    "In Discovery, the content that you upload is stored in a collection that is part of your environment. You must create the environment and collection before you can upload your content."
   ]
  },
  {
   "cell_type": "markdown",
   "metadata": {},
   "source": [
    "### 2.1 List your current environment within Watson Discovery\n",
    "\n"
   ]
  },
  {
   "cell_type": "code",
   "execution_count": null,
   "metadata": {},
   "outputs": [],
   "source": [
    "environments = discovery.list_environments().get_result()\n",
    "print(json.dumps(environments, indent=2))"
   ]
  },
  {
   "cell_type": "markdown",
   "metadata": {},
   "source": [
    "### 2.2 List your current collections within Watson Discovery\n",
    "copy the environment key from the output created in cell 2.1, then add into the cell below."
   ]
  },
  {
   "cell_type": "code",
   "execution_count": null,
   "metadata": {},
   "outputs": [],
   "source": [
    "collections = discovery.list_collections('<add your environment key>').get_result()\n",
    "print(json.dumps(collections, indent=2))\n",
    "\n"
   ]
  },
  {
   "cell_type": "markdown",
   "metadata": {},
   "source": [
    "### 2.3 List your current configurations within Watson Discovery\n",
    "copy the environment key from the output created in cell 2.1, then add into the cell below."
   ]
  },
  {
   "cell_type": "code",
   "execution_count": null,
   "metadata": {},
   "outputs": [],
   "source": [
    "configs = discovery.list_configurations('<add your environment key>').get_result()\n",
    "print(json.dumps(configs, indent=2))"
   ]
  },
  {
   "cell_type": "markdown",
   "metadata": {},
   "source": [
    "## 3. Create your \"Dutch\" collection within Watson Discovery\n",
    "- copy the environment key from the output created in cell 2.1, then add into the cell below.\n",
    "<br>\n",
    "- copy the relevant configuration key from the output created in cell 2.3, then add into the cell below.\n",
    "<br>\n",
    "- Add a name for your collection\n",
    "<br>\n",
    "- Add a description about your collection"
   ]
  },
  {
   "cell_type": "code",
   "execution_count": null,
   "metadata": {},
   "outputs": [],
   "source": [
    "new_collection = discovery.create_collection(\n",
    "    environment_id='<add your environment key>',\n",
    "    configuration_id='<add your configuration key>', \n",
    "    name='<add you collection name>', \n",
    "    description='<add your description>',\n",
    "     language='nl').get_result()\n",
    "print(json.dumps(new_collection, indent=2))"
   ]
  },
  {
   "cell_type": "markdown",
   "metadata": {},
   "source": [
    "## 4. Danger Zone - delete collection within Watson Discovery\n",
    "\n",
    "- copy the environment key from the output created in cell 2.1, then add into the cell below.\n",
    "<br>\n",
    "- copy the collection key from the output created in cell 2.2, then add into the cell below."
   ]
  },
  {
   "cell_type": "code",
   "execution_count": null,
   "metadata": {},
   "outputs": [],
   "source": [
    "delete_collection = discovery.delete_collection(\n",
    "    '<add your environment key>', \n",
    "    '<add your collection key>').get_result()\n",
    "print(json.dumps(delete_collection, indent=2))"
   ]
  },
  {
   "cell_type": "markdown",
   "metadata": {},
   "source": [
    "## 5. Danger Zone - delete configuration within Watson Discovery\n",
    "\n",
    "- copy the environment key from the output created in cell 2.1, then add into the cell below.\n",
    "<br>\n",
    "- copy the configuration key from the output created in cell 2.3, then add into the cell below."
   ]
  },
  {
   "cell_type": "code",
   "execution_count": null,
   "metadata": {},
   "outputs": [],
   "source": [
    "config_delete = discovery.delete_configuration('<add your environment key>', '<add your configuration key>').get_result()\n",
    "print(json.dumps(config_delete, indent=2))"
   ]
  }
 ],
 "metadata": {
  "kernelspec": {
   "display_name": "Python 3",
   "language": "python",
   "name": "python3"
  },
  "language_info": {
   "codemirror_mode": {
    "name": "ipython",
    "version": 3
   },
   "file_extension": ".py",
   "mimetype": "text/x-python",
   "name": "python",
   "nbconvert_exporter": "python",
   "pygments_lexer": "ipython3",
   "version": "3.7.1"
  }
 },
 "nbformat": 4,
 "nbformat_minor": 2
}
